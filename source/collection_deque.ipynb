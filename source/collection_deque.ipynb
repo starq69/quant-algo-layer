{
 "cells": [
  {
   "cell_type": "code",
   "execution_count": 14,
   "metadata": {
    "collapsed": true
   },
   "outputs": [],
   "source": [
    "from collections import deque\n",
    "import itertools"
   ]
  },
  {
   "cell_type": "code",
   "execution_count": 10,
   "metadata": {
    "collapsed": false
   },
   "outputs": [
    {
     "data": {
      "text/plain": [
       "deque(['1', '2', '3', '4'])"
      ]
     },
     "execution_count": 10,
     "metadata": {},
     "output_type": "execute_result"
    }
   ],
   "source": [
    "d = deque('1234')\n",
    "d"
   ]
  },
  {
   "cell_type": "code",
   "execution_count": 11,
   "metadata": {
    "collapsed": false
   },
   "outputs": [
    {
     "data": {
      "text/plain": [
       "deque(['1', '2', '3', '4', '5'])"
      ]
     },
     "execution_count": 11,
     "metadata": {},
     "output_type": "execute_result"
    }
   ],
   "source": [
    "d.append('5')   # add a new entry to the right side\n",
    "d"
   ]
  },
  {
   "cell_type": "code",
   "execution_count": 12,
   "metadata": {
    "collapsed": false
   },
   "outputs": [
    {
     "data": {
      "text/plain": [
       "'1'"
      ]
     },
     "execution_count": 12,
     "metadata": {},
     "output_type": "execute_result"
    }
   ],
   "source": [
    "d.popleft()"
   ]
  },
  {
   "cell_type": "code",
   "execution_count": 13,
   "metadata": {
    "collapsed": false
   },
   "outputs": [
    {
     "data": {
      "text/plain": [
       "deque(['2', '3', '4', '5'])"
      ]
     },
     "execution_count": 13,
     "metadata": {},
     "output_type": "execute_result"
    }
   ],
   "source": [
    "d"
   ]
  },
  {
   "cell_type": "code",
   "execution_count": 15,
   "metadata": {
    "collapsed": true
   },
   "outputs": [],
   "source": [
    "#https://docs.python.org/3/library/collections.html#collections.deque\n",
    "\n",
    "def moving_average(iterable, n=3):\n",
    "    # moving_average([40, 30, 50, 46, 39, 44]) --> 40.0 42.0 45.0 43.0\n",
    "    # http://en.wikipedia.org/wiki/Moving_average\n",
    "    it = iter(iterable)\n",
    "    d = deque(itertools.islice(it, n-1))\n",
    "    d.appendleft(0)\n",
    "    s = sum(d)\n",
    "    for elem in it:\n",
    "        s += elem - d.popleft()\n",
    "        d.append(elem)\n",
    "        yield s / n"
   ]
  },
  {
   "cell_type": "code",
   "execution_count": 34,
   "metadata": {
    "collapsed": false
   },
   "outputs": [
    {
     "name": "stdout",
     "output_type": "stream",
     "text": [
      "nested_list : \n",
      "[[0, 0], [0, 0], [0, 0], [0, 0], [0, 0]]\n",
      "deque : \n",
      "10000 loops, best of 3: 13.9 µs per loop\n",
      "deck : \n",
      "deque([array([90, 91]), array([92, 93]), array([94, 95]), array([96, 97]), array([98, 99])])\n",
      "pandas : \n",
      "100 loops, best of 3: 18.7 ms per loop\n",
      "numpy array : \n",
      "10000 loops, best of 3: 74.8 µs per loop\n"
     ]
    }
   ],
   "source": [
    "# https://stackoverflow.com/questions/20091077/deque-in-python-pandas\n",
    "\n",
    "from collections import deque\n",
    "import pandas as pd\n",
    "import numpy as np\n",
    "#import h5py\n",
    "\n",
    "def insert_deque(test_sequence, buffer_deque):\n",
    "    for item in test_sequence:\n",
    "        buffer_deque.popleft()\n",
    "        buffer_deque.append(item)\n",
    "    return buffer_deque\n",
    "\n",
    "def insert_df(test_sequence, buffer_df):\n",
    "    for item in test_sequence:\n",
    "        buffer_df.iloc[0:-1,:] = buffer_df.iloc[1:,:].values\n",
    "        buffer_df.iloc[-1] = item\n",
    "    return buffer_df\n",
    "\n",
    "def insert_arraylike(test_sequence, buffer_arr):\n",
    "    for item in test_sequence:\n",
    "        buffer_arr[:-1] = buffer_arr[1:]\n",
    "        buffer_arr[-1] = item\n",
    "    return buffer_arr\n",
    "\n",
    "test_sequence = np.array(list(range(100))).reshape(50,2)\n",
    "#test_sequence = np.array(list(range(100))*2).reshape(100,2)\n",
    "#print('test_sequence : \\n{}'.format(test_sequence))\n",
    "\n",
    "# create buffer arrays\n",
    "nested_list = [[0]*2]*5\n",
    "print('nested_list : \\n{}'.format(nested_list))\n",
    "buffer_deque = deque(nested_list)\n",
    "\n",
    "buffer_df = pd.DataFrame(nested_list, columns=('A','B'))\n",
    "buffer_arr = np.array(nested_list)\n",
    "\n",
    "# calculate speed of each process in ipython\n",
    "print(\"deque : \")\n",
    "%timeit insert_deque(test_sequence, buffer_deque)\n",
    "deck=insert_deque(test_sequence, buffer_deque)\n",
    "print('deck : \\n{}'.format(deck))\n",
    "\n",
    "print(\"pandas : \")\n",
    "%timeit insert_df(test_sequence, buffer_df)\n",
    "print(\"numpy array : \")\n",
    "%timeit insert_arraylike(test_sequence, buffer_arr)\n",
    "#print(\"hdf5 with h5py : \")\n",
    "#with h5py.File(\"h5py_test.h5\", \"w\") as f:\n",
    "#    f[\"buffer_hdf5\"] = np.array(nested_list)\n",
    "#    %timeit insert_arraylike(test_sequence, f[\"buffer_hdf5\"])\n"
   ]
  },
  {
   "cell_type": "code",
   "execution_count": null,
   "metadata": {
    "collapsed": true
   },
   "outputs": [],
   "source": []
  }
 ],
 "metadata": {
  "kernelspec": {
   "display_name": "Python [conda root]",
   "language": "python",
   "name": "conda-root-py"
  },
  "language_info": {
   "codemirror_mode": {
    "name": "ipython",
    "version": 3
   },
   "file_extension": ".py",
   "mimetype": "text/x-python",
   "name": "python",
   "nbconvert_exporter": "python",
   "pygments_lexer": "ipython3",
   "version": "3.5.5"
  }
 },
 "nbformat": 4,
 "nbformat_minor": 1
}
