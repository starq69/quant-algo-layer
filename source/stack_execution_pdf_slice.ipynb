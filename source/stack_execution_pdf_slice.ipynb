{
 "cells": [
  {
   "cell_type": "code",
   "execution_count": 1,
   "metadata": {
    "collapsed": false
   },
   "outputs": [
    {
     "data": {
      "text/plain": [
       "{'foo_call': {'callback': <function __main__.foo>,\n",
       "  'ext_data': {},\n",
       "  'frequency': 2,\n",
       "  'name': 'foo_test',\n",
       "  'params': {'High': 'float64', 'Low': 'float64'}}}"
      ]
     },
     "execution_count": 1,
     "metadata": {},
     "output_type": "execute_result"
    }
   ],
   "source": [
    "_HIGH_ = 'High'\n",
    "dty = {   \n",
    "        'Close': 'float64',\n",
    "        _HIGH_: 'float64',\n",
    "        'Low': 'float64',\n",
    "        'Open': 'float64',\n",
    "        'Volume': 'int64'\n",
    "      }\n",
    "\n",
    "def foo (subset):\n",
    "    # return a dict\n",
    "    return {'foo' : subset.size}\n",
    "\n",
    "ai = {'foo_call': {\n",
    "                    'name' : 'foo_test',\n",
    "                    'frequency' : 2,\n",
    "                    'callback': foo,\n",
    "                    'params' : {_HIGH_:dty[_HIGH_], 'Low':dty['Low']},   # axis(ohlcv) \n",
    "                    'ext_data' : {} # globals (min,max, histvol, TBD)\n",
    "                  }\n",
    "      }\n",
    "ai"
   ]
  },
  {
   "cell_type": "code",
   "execution_count": 2,
   "metadata": {
    "collapsed": false
   },
   "outputs": [
    {
     "data": {
      "text/plain": [
       "2"
      ]
     },
     "execution_count": 2,
     "metadata": {},
     "output_type": "execute_result"
    }
   ],
   "source": [
    "max_duration = max({_:value['frequency'] for (_,value) in ai.items()}.values())\n",
    "max_duration"
   ]
  },
  {
   "cell_type": "code",
   "execution_count": 3,
   "metadata": {
    "collapsed": true
   },
   "outputs": [],
   "source": [
    "import numpy as np\n",
    "import pandas as pd\n",
    "import time"
   ]
  },
  {
   "cell_type": "code",
   "execution_count": 4,
   "metadata": {
    "collapsed": false
   },
   "outputs": [
    {
     "name": "stdout",
     "output_type": "stream",
     "text": [
      "<class 'pandas.core.frame.DataFrame'>\n",
      "DatetimeIndex: 12 entries, 1999-01-22 to 1999-02-08\n",
      "Data columns (total 5 columns):\n",
      "Open      12 non-null float64\n",
      "High      12 non-null float64\n",
      "Low       12 non-null float64\n",
      "Close     12 non-null float64\n",
      "Volume    12 non-null int64\n",
      "dtypes: float64(4), int64(1)\n",
      "memory usage: 576.0 bytes\n"
     ]
    }
   ],
   "source": [
    "pdf = pd.read_csv('/home/starq/REP/DATA/FINANCE/Quotazioni/test-ai.csv' \\\n",
    "#pdf = pd.read_csv('/home/starq/REP/DATA/FINANCE/Quotazioni/NVDA.csv' \\\n",
    "                                 ,usecols=['Date','Open', 'High', 'Low', 'Close', 'Volume'] \\\n",
    "                                 ,dtype=dty,parse_dates=['Date'],infer_datetime_format=True \\\n",
    "                                 ,index_col='Date')\n",
    "pdf.info(memory_usage='deep')"
   ]
  },
  {
   "cell_type": "code",
   "execution_count": 5,
   "metadata": {
    "collapsed": false
   },
   "outputs": [],
   "source": [
    "def stack_execution (active_indicators, datapoint, dtype=dty, ext_data={}):\n",
    "    \n",
    "    ai           = active_indicators \n",
    "    max_duration = max({_:value['frequency'] for (_,value) in ai.items()}.values())\n",
    "    i_stack      = pd.DataFrame()\n",
    "    i_stack      = i_stack.append([datapoint], ignore_index=True)\n",
    "    ext_data     = ext_data\n",
    "\n",
    "    period = max_duration\n",
    "    count  = 1\n",
    "    print(i_stack)\n",
    "    \n",
    "    def _run(pdf): ### può essere un rif a pdf\n",
    "\n",
    "        nonlocal ai, i_stack, period, count, ext_data\n",
    "\n",
    "        #i_stack  = i_stack.append([datapoint], ignore_index=True) ### nn serve più\n",
    "        count += 1\n",
    "        #print(i_stack)\n",
    "        \n",
    "        v = None\n",
    "        events = list()  ### dovrebbe essere un dict ??\n",
    "        \n",
    "        for fx in ai:\n",
    "            \n",
    "            if (count >= ai[fx]['frequency']):\n",
    "                #\n",
    "                pass\n",
    "                #row_list    = -fx['frequency':]  ### si usa sotto\n",
    "\n",
    "                v = ai[fx]['callback'] (pdf.iloc[-ai[fx]['frequency']:]) ### ultimi fx['frequency'] elementi\n",
    "                #\n",
    "                # v potrebbe essere :\n",
    "                # {'LW-min' : True }\n",
    "\n",
    "                #v = ai[fx]['callback'] ()\n",
    "                # i_stack[row_list, :][:, columns_list]\n",
    "                #v = fx['callback'] (i_stack[np.ix_(row_list, columns_list)]) ### best solution x nparray (fare un performance test)\n",
    "                              \n",
    "                #events.append[{str(ai[fx]['name']):v}]\n",
    "                # LIST\n",
    "                events.append(v) ### events.append(v, timestamp) ?\n",
    "                # DICT\n",
    "                #events[v.key] = v.value\n",
    "                \n",
    "        if count >= period: \n",
    "            pass\n",
    "            #i_stack = i_stack.drop(i_stack.index[0])   ### non serve più\n",
    "        return events\n",
    "        #\n",
    "        # events (LIST) potrebbe essere:\n",
    "        # [{'LW-min' : True }, {'GAP' : '1.45' }]\n",
    "        # oppure (DICT)\n",
    "        # {'LW-min' : True, 'GAP' : '1.45' }\n",
    "        #\n",
    "        #return v\n",
    "        \n",
    "    return _run"
   ]
  },
  {
   "cell_type": "code",
   "execution_count": 6,
   "metadata": {
    "collapsed": true
   },
   "outputs": [],
   "source": [
    "pdf_ext_data_columns = {\n",
    "                        '0' : 'LW-min',\n",
    "                        '1' : 'LW-max',\n",
    "                        '2' : 'GAP',\n",
    "                        '3' : 'foo'\n",
    "                        }\n",
    "\n",
    "# events normalization:\n",
    "def yeld_event_row (events):\n",
    "\n",
    "    pdf_ext_data = {}\n",
    "    if not events:\n",
    "        for i in range (len(pdf_ext_data_columns)):\n",
    "            pdf_ext_data [pdf_ext_data_columns[str(i)]] = None\n",
    "        return pdf_ext_data\n",
    "        \n",
    "    for i in range (len(pdf_ext_data_columns)): ### pdf_mapped_events\n",
    "\n",
    "        #\n",
    "        # crea l'event_dict (pdf_ext_data) x il datapoint corrente\n",
    "        #\n",
    "        try:\n",
    "            if events[pdf_ext_data_columns[str(i)]]:\n",
    "                pdf_ext_data [pdf_ext_data_columns[str(i)]] = events[pdf_ext_data_columns[str(i)]]\n",
    "            else:\n",
    "                pdf_ext_data [pdf_ext_data_columns[str(i)]] = None\n",
    "        except KeyError as e:\n",
    "            pdf_ext_data [pdf_ext_data_columns[str(i)]] = None\n",
    "\n",
    "    return pdf_ext_data\n",
    "    #\n",
    "    # pdf_ext_data potrebbe essere :\n",
    "    # {'LW-min': None, 'LW-max': None, 'GAP': '1.45'}\n",
    "        \n",
    "#\n",
    "#\n",
    "#pdf.insert(loc=0, column=pdf_ext_data_columns.values, value=pd.Series(pdf_ext_data))"
   ]
  },
  {
   "cell_type": "code",
   "execution_count": 7,
   "metadata": {
    "collapsed": false
   },
   "outputs": [
    {
     "name": "stdout",
     "output_type": "stream",
     "text": [
      "       Index  Open      High       Low     Close    Volume\n",
      "0 1999-01-22  21.0  23.43744  18.62496  19.68744  67867200\n",
      "events :\n",
      "[{'foo': 10}]\n"
     ]
    },
    {
     "ename": "TypeError",
     "evalue": "list indices must be integers or slices, not str",
     "output_type": "error",
     "traceback": [
      "\u001b[0;31m---------------------------------------------------------------------------\u001b[0m",
      "\u001b[0;31mTypeError\u001b[0m                                 Traceback (most recent call last)",
      "\u001b[0;32m<ipython-input-7-2d8a08177bec>\u001b[0m in \u001b[0;36m<module>\u001b[0;34m()\u001b[0m\n\u001b[1;32m     20\u001b[0m             \u001b[0;31m# verificare se ogni colonna esiste in events, se non esiste la crea vuota in pdf_ext_data\u001b[0m\u001b[0;34m\u001b[0m\u001b[0;34m\u001b[0m\u001b[0m\n\u001b[1;32m     21\u001b[0m             \u001b[0;31m# se esiste la copia da events\u001b[0m\u001b[0;34m\u001b[0m\u001b[0;34m\u001b[0m\u001b[0m\n\u001b[0;32m---> 22\u001b[0;31m             \u001b[0mevents_dict\u001b[0m \u001b[0;34m=\u001b[0m \u001b[0myeld_event_row\u001b[0m\u001b[0;34m(\u001b[0m\u001b[0mevents\u001b[0m\u001b[0;34m)\u001b[0m\u001b[0;34m\u001b[0m\u001b[0m\n\u001b[0m\u001b[1;32m     23\u001b[0m             \u001b[0;31m#\u001b[0m\u001b[0;34m\u001b[0m\u001b[0;34m\u001b[0m\u001b[0m\n\u001b[1;32m     24\u001b[0m             \u001b[0;31m# quindi :\u001b[0m\u001b[0;34m\u001b[0m\u001b[0;34m\u001b[0m\u001b[0m\n",
      "\u001b[0;32m<ipython-input-6-936e3169210c>\u001b[0m in \u001b[0;36myeld_event_row\u001b[0;34m(events)\u001b[0m\n\u001b[1;32m     21\u001b[0m         \u001b[0;31m#\u001b[0m\u001b[0;34m\u001b[0m\u001b[0;34m\u001b[0m\u001b[0m\n\u001b[1;32m     22\u001b[0m         \u001b[0;32mtry\u001b[0m\u001b[0;34m:\u001b[0m\u001b[0;34m\u001b[0m\u001b[0m\n\u001b[0;32m---> 23\u001b[0;31m             \u001b[0;32mif\u001b[0m \u001b[0mevents\u001b[0m\u001b[0;34m[\u001b[0m\u001b[0mpdf_ext_data_columns\u001b[0m\u001b[0;34m[\u001b[0m\u001b[0mstr\u001b[0m\u001b[0;34m(\u001b[0m\u001b[0mi\u001b[0m\u001b[0;34m)\u001b[0m\u001b[0;34m]\u001b[0m\u001b[0;34m]\u001b[0m\u001b[0;34m:\u001b[0m\u001b[0;34m\u001b[0m\u001b[0m\n\u001b[0m\u001b[1;32m     24\u001b[0m                 \u001b[0mpdf_ext_data\u001b[0m \u001b[0;34m[\u001b[0m\u001b[0mpdf_ext_data_columns\u001b[0m\u001b[0;34m[\u001b[0m\u001b[0mstr\u001b[0m\u001b[0;34m(\u001b[0m\u001b[0mi\u001b[0m\u001b[0;34m)\u001b[0m\u001b[0;34m]\u001b[0m\u001b[0;34m]\u001b[0m \u001b[0;34m=\u001b[0m \u001b[0mevents\u001b[0m\u001b[0;34m[\u001b[0m\u001b[0mpdf_ext_data_columns\u001b[0m\u001b[0;34m[\u001b[0m\u001b[0mstr\u001b[0m\u001b[0;34m(\u001b[0m\u001b[0mi\u001b[0m\u001b[0;34m)\u001b[0m\u001b[0;34m]\u001b[0m\u001b[0;34m]\u001b[0m\u001b[0;34m\u001b[0m\u001b[0m\n\u001b[1;32m     25\u001b[0m             \u001b[0;32melse\u001b[0m\u001b[0;34m:\u001b[0m\u001b[0;34m\u001b[0m\u001b[0m\n",
      "\u001b[0;31mTypeError\u001b[0m: list indices must be integers or slices, not str"
     ]
    }
   ],
   "source": [
    "#\n",
    "#  MAIN\n",
    "#\n",
    "\n",
    "rows = 0\n",
    "events_rows = list()\n",
    "start = time.clock()\n",
    "for datapoint in pdf.itertuples():\n",
    "    if rows :\n",
    "        #break\n",
    "        events = run_indicators(pdf) ### aggiungere datapoint.timestamp come idx ?\n",
    "        if events:\n",
    "            print ('events :')\n",
    "            print(events)\n",
    "            pass ##########################################################################\n",
    "            #\n",
    "            # events normalization:\n",
    "            #\n",
    "            # ...qui bisogna - con la lista di tutte colonne utilizzate in ai (pdf_ext_data_columns) -\n",
    "            # verificare se ogni colonna esiste in events, se non esiste la crea vuota in pdf_ext_data\n",
    "            # se esiste la copia da events            \n",
    "            events_dict = yeld_event_row(events)\n",
    "            #\n",
    "            # quindi :\n",
    "            events_rows.append(events_dict)\n",
    "            #\n",
    "            #################################################################################           \n",
    "            \n",
    "        else:\n",
    "            events_rows.append(yeld_event_row({}))\n",
    "    else:\n",
    "        run_indicators = stack_execution(ai, datapoint)  \n",
    "        ### events_row.append(_null_event_row_)\n",
    "        events_rows.append(yeld_event_row({}))\n",
    "\n",
    "    rows += 1\n",
    "\n",
    "columns =  list(pdf_ext_data_columns.values())\n",
    "pdf.insert(loc=0, column=columns, value=event_stack)\n",
    "#pdf.insert(loc=0, column=pdf_ext_data_columns.<values>, value=pd.Series(pdf_ext_data))\n",
    "\n",
    "# provare :\n",
    "# https://stackoverflow.com/questions/10715965/add-one-row-in-a-pandas-dataframe\n",
    "#\n",
    "'''\n",
    "numOfRows = 10000\n",
    "row_list = []\n",
    "\n",
    "for i in range( 1,numOfRows):\n",
    "    dict1 = dict( (a,numpy.random.randint(100)) for a in ['A','B','C','D','E'])\n",
    "    event_stack.append(dict1)\n",
    "\n",
    "df3 = pandas.DataFrame(event_stack, columns=['A','B','C','D','E']) ### qui devo aggiungere a pdf!!!\n",
    "\n",
    "# quindi :\n",
    "https://pandas.pydata.org/pandas-docs/stable/merging.html !!!!\n",
    "'''    \n",
    "\n",
    "elapsed = str(time.clock() - start)\n",
    "print('elapsed : ' + elapsed)\n"
   ]
  },
  {
   "cell_type": "code",
   "execution_count": 37,
   "metadata": {
    "collapsed": false
   },
   "outputs": [
    {
     "data": {
      "text/plain": [
       "'1.11.1'"
      ]
     },
     "execution_count": 37,
     "metadata": {},
     "output_type": "execute_result"
    }
   ],
   "source": [
    "np.__version__"
   ]
  },
  {
   "cell_type": "code",
   "execution_count": 109,
   "metadata": {
    "collapsed": false
   },
   "outputs": [
    {
     "name": "stdout",
     "output_type": "stream",
     "text": [
      "[Timestamp('1999-01-25 00:00:00') 21.249960000000002 21.999960000000002\n",
      " 19.687439999999999 21.75 12762000]\n"
     ]
    }
   ],
   "source": [
    "xlist = [(1, 1.1), (2, 1.2), (3, 1.3)]\n",
    "#xlist = list(datapoint)\n",
    "#dt=np.dtype('Timestamp,float,float,float,float,int')\n",
    "xarr = np.array(xlist)#,dtype=dt)\n",
    "xlist\n",
    "#xarr\n",
    "#xarr.dtype\n",
    "list(datapoint)\n",
    "xarr = np.array(list(datapoint))\n",
    "print(xarr)"
   ]
  },
  {
   "cell_type": "code",
   "execution_count": 305,
   "metadata": {
    "collapsed": false
   },
   "outputs": [
    {
     "name": "stdout",
     "output_type": "stream",
     "text": [
      "<class 'list'>\n",
      "[1.99, 2, 3, 4]\n"
     ]
    },
    {
     "data": {
      "text/plain": [
       "array([ 1.99,  2.  ,  3.  ,  4.  ])"
      ]
     },
     "execution_count": 305,
     "metadata": {},
     "output_type": "execute_result"
    }
   ],
   "source": [
    "dp = [1.99,2,3,4]\n",
    "print(type(dp))\n",
    "print(dp)\n",
    "arr = np.array(dp)#[[1,2,3,4], [5,6,7,8], [9,10,11,12]])\n",
    "arr"
   ]
  },
  {
   "cell_type": "code",
   "execution_count": 250,
   "metadata": {
    "collapsed": false
   },
   "outputs": [
    {
     "data": {
      "text/plain": [
       "array([5, 6, 7, 8])"
      ]
     },
     "execution_count": 250,
     "metadata": {},
     "output_type": "execute_result"
    }
   ],
   "source": [
    "arr[1]\n",
    "#arr = np.delete(arr, 0,0)"
   ]
  },
  {
   "cell_type": "code",
   "execution_count": 176,
   "metadata": {
    "collapsed": false
   },
   "outputs": [
    {
     "data": {
      "text/plain": [
       "array([[ 5,  6,  7,  8],\n",
       "       [ 9, 10, 11, 12]])"
      ]
     },
     "execution_count": 176,
     "metadata": {},
     "output_type": "execute_result"
    }
   ],
   "source": [
    "arr"
   ]
  },
  {
   "cell_type": "code",
   "execution_count": 8,
   "metadata": {
    "collapsed": false
   },
   "outputs": [
    {
     "data": {
      "text/plain": [
       "['foo', 'LW-max', 'GAP', 'LW-min']"
      ]
     },
     "execution_count": 8,
     "metadata": {},
     "output_type": "execute_result"
    }
   ],
   "source": [
    "list(pdf_ext_data_columns.values())"
   ]
  },
  {
   "cell_type": "code",
   "execution_count": null,
   "metadata": {
    "collapsed": true
   },
   "outputs": [],
   "source": []
  }
 ],
 "metadata": {
  "anaconda-cloud": {},
  "kernelspec": {
   "display_name": "Python [conda root]",
   "language": "python",
   "name": "conda-root-py"
  },
  "language_info": {
   "codemirror_mode": {
    "name": "ipython",
    "version": 3
   },
   "file_extension": ".py",
   "mimetype": "text/x-python",
   "name": "python",
   "nbconvert_exporter": "python",
   "pygments_lexer": "ipython3",
   "version": "3.5.5"
  }
 },
 "nbformat": 4,
 "nbformat_minor": 1
}
