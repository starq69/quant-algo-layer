{
 "cells": [
  {
   "cell_type": "markdown",
   "metadata": {},
   "source": [
    "## add rows in a pandas.DataFrame"
   ]
  },
  {
   "cell_type": "markdown",
   "metadata": {},
   "source": [
    "#### https://stackoverflow.com/questions/10715965/add-one-row-in-a-pandas-dataframe"
   ]
  },
  {
   "cell_type": "code",
   "execution_count": 1,
   "metadata": {
    "collapsed": true
   },
   "outputs": [],
   "source": [
    "import pandas\n",
    "import numpy\n",
    "import time"
   ]
  },
  {
   "cell_type": "markdown",
   "metadata": {},
   "source": [
    "### Se devo aggiungere molte righe al dataframe mi interessa il metodo più veloce :"
   ]
  },
  {
   "cell_type": "code",
   "execution_count": 2,
   "metadata": {
    "collapsed": false
   },
   "outputs": [
    {
     "name": "stdout",
     "output_type": "stream",
     "text": [
      "(1) Elapsed time: 12.039 seconds for 10000 rows\n",
      "<class 'pandas.core.frame.DataFrame'>\n",
      "RangeIndex: 10004 entries, 0 to 10003\n",
      "Data columns (total 5 columns):\n",
      "A    10004 non-null int64\n",
      "B    10004 non-null int64\n",
      "C    10004 non-null int64\n",
      "D    10004 non-null int64\n",
      "E    10004 non-null int64\n",
      "dtypes: int64(5)\n",
      "memory usage: 390.9 KB\n",
      "(2) Elapsed time: 14.222 seconds for 10000 rows\n",
      "<class 'pandas.core.frame.DataFrame'>\n",
      "Int64Index: 10004 entries, 0 to 10003\n",
      "Data columns (total 5 columns):\n",
      "A    10004 non-null int64\n",
      "B    10004 non-null int64\n",
      "C    10004 non-null int64\n",
      "D    10004 non-null int64\n",
      "E    10004 non-null int64\n",
      "dtypes: int64(5)\n",
      "memory usage: 468.9 KB\n",
      "(3) Elapsed time:  0.100 seconds for 10000 rows\n",
      "<class 'pandas.core.frame.DataFrame'>\n",
      "RangeIndex: 9999 entries, 0 to 9998\n",
      "Data columns (total 5 columns):\n",
      "A    9999 non-null int64\n",
      "B    9999 non-null int64\n",
      "C    9999 non-null int64\n",
      "D    9999 non-null int64\n",
      "E    9999 non-null int64\n",
      "dtypes: int64(5)\n",
      "memory usage: 390.7 KB\n"
     ]
    }
   ],
   "source": [
    "numOfRows = 10000\n",
    "\n",
    "# (1) Using .append\n",
    "#\n",
    "startTime = time.perf_counter()\n",
    "\n",
    "df1 = pandas.DataFrame(numpy.random.randint(100, size=(5,5)), columns=['A', 'B', 'C', 'D', 'E'])\n",
    "for i in range( 1,numOfRows):\n",
    "    df1 = df1.append( dict( (a,numpy.random.randint(100)) for a in ['A','B','C','D','E']), ignore_index=True)\n",
    "print('(1) Elapsed time: {:6.3f} seconds for {:d} rows'.format(time.perf_counter() - startTime, numOfRows))\n",
    "df1.info()\n",
    "\n",
    "# (2) Using .loc\n",
    "#\n",
    "startTime = time.perf_counter()\n",
    "\n",
    "df2 = pandas.DataFrame(numpy.random.randint(100, size=(5,5)), columns=['A', 'B', 'C', 'D', 'E'])\n",
    "for i in range( 1,numOfRows):\n",
    "    df2.loc[df2.index.max()+1]  = numpy.random.randint(100, size=(1,5))[0]\n",
    "print('(2) Elapsed time: {:6.3f} seconds for {:d} rows'.format(time.perf_counter() - startTime, numOfRows))\n",
    "df2.info()\n",
    "\n",
    "# (3) Using dict and create DataFrame in the end\n",
    "#\n",
    "startTime = time.perf_counter()\n",
    "\n",
    "row_list = []\n",
    "#for i in range (0,5):\n",
    "#    row_list.append(dict( (a,numpy.random.randint(100)) for a in ['A','B','C','D','E']))\n",
    "for i in range( 1,numOfRows):\n",
    "    dict1 = dict( (a,numpy.random.randint(100)) for a in ['A','B','C','D','E'])\n",
    "    row_list.append(dict1)\n",
    "\n",
    "df3 = pandas.DataFrame(row_list, columns=['A','B','C','D','E'])\n",
    "print('(3) Elapsed time: {:6.3f} seconds for {:d} rows'.format(time.perf_counter() - startTime, numOfRows))\n",
    "df3.info()"
   ]
  },
  {
   "cell_type": "markdown",
   "metadata": {},
   "source": [
    "#### Quindi : creo una lista di dict dove ogni dict corrisponde ad una riga, quando la lista è completa creo il Dataframe. Questo è il metodo più veloce in assoluto."
   ]
  },
  {
   "cell_type": "code",
   "execution_count": 3,
   "metadata": {
    "collapsed": false
   },
   "outputs": [
    {
     "data": {
      "text/html": [
       "<div>\n",
       "<table border=\"1\" class=\"dataframe\">\n",
       "  <thead>\n",
       "    <tr style=\"text-align: right;\">\n",
       "      <th></th>\n",
       "      <th>A</th>\n",
       "      <th>B</th>\n",
       "      <th>C</th>\n",
       "      <th>D</th>\n",
       "      <th>E</th>\n",
       "    </tr>\n",
       "  </thead>\n",
       "  <tbody>\n",
       "    <tr>\n",
       "      <th>9994</th>\n",
       "      <td>94</td>\n",
       "      <td>86</td>\n",
       "      <td>86</td>\n",
       "      <td>92</td>\n",
       "      <td>2</td>\n",
       "    </tr>\n",
       "    <tr>\n",
       "      <th>9995</th>\n",
       "      <td>83</td>\n",
       "      <td>58</td>\n",
       "      <td>3</td>\n",
       "      <td>99</td>\n",
       "      <td>85</td>\n",
       "    </tr>\n",
       "    <tr>\n",
       "      <th>9996</th>\n",
       "      <td>3</td>\n",
       "      <td>3</td>\n",
       "      <td>8</td>\n",
       "      <td>64</td>\n",
       "      <td>84</td>\n",
       "    </tr>\n",
       "    <tr>\n",
       "      <th>9997</th>\n",
       "      <td>40</td>\n",
       "      <td>43</td>\n",
       "      <td>34</td>\n",
       "      <td>20</td>\n",
       "      <td>90</td>\n",
       "    </tr>\n",
       "    <tr>\n",
       "      <th>9998</th>\n",
       "      <td>27</td>\n",
       "      <td>40</td>\n",
       "      <td>81</td>\n",
       "      <td>35</td>\n",
       "      <td>73</td>\n",
       "    </tr>\n",
       "  </tbody>\n",
       "</table>\n",
       "</div>"
      ],
      "text/plain": [
       "       A   B   C   D   E\n",
       "9994  94  86  86  92   2\n",
       "9995  83  58   3  99  85\n",
       "9996   3   3   8  64  84\n",
       "9997  40  43  34  20  90\n",
       "9998  27  40  81  35  73"
      ]
     },
     "execution_count": 3,
     "metadata": {},
     "output_type": "execute_result"
    }
   ],
   "source": [
    "df3.tail()"
   ]
  },
  {
   "cell_type": "code",
   "execution_count": 14,
   "metadata": {
    "collapsed": false
   },
   "outputs": [
    {
     "data": {
      "text/plain": [
       "True"
      ]
     },
     "execution_count": 14,
     "metadata": {},
     "output_type": "execute_result"
    }
   ],
   "source": [
    "#columns = ['A','B','C','D','E']\n",
    "event_dict = {'GAP':'tbd', 'LW-min':'tbd', 'LW-max':'tbd', 'foo':'tbd'}\n",
    "\n",
    "dict1 = dict( (_key,_values) for _key, _values in event_dict.items() ) ### non  serve a nulla\n",
    "#dict1\n",
    "dict1 == event_dict"
   ]
  },
  {
   "cell_type": "code",
   "execution_count": null,
   "metadata": {
    "collapsed": true
   },
   "outputs": [],
   "source": []
  }
 ],
 "metadata": {
  "anaconda-cloud": {},
  "kernelspec": {
   "display_name": "Python [conda root]",
   "language": "python",
   "name": "conda-root-py"
  },
  "language_info": {
   "codemirror_mode": {
    "name": "ipython",
    "version": 3
   },
   "file_extension": ".py",
   "mimetype": "text/x-python",
   "name": "python",
   "nbconvert_exporter": "python",
   "pygments_lexer": "ipython3",
   "version": "3.5.5"
  }
 },
 "nbformat": 4,
 "nbformat_minor": 1
}
