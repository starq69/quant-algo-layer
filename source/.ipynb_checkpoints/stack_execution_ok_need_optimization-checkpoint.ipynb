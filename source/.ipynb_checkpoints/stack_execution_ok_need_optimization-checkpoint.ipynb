{
 "cells": [
  {
   "cell_type": "code",
   "execution_count": 1,
   "metadata": {
    "collapsed": false
   },
   "outputs": [
    {
     "data": {
      "text/plain": [
       "{'foo_call': {'axis': {'High': 'float64', 'Low': 'float64'},\n",
       "  'callback': <function __main__.foo>,\n",
       "  'ext_data': {},\n",
       "  'frequency': 2,\n",
       "  'name': 'foo_test'}}"
      ]
     },
     "execution_count": 1,
     "metadata": {},
     "output_type": "execute_result"
    }
   ],
   "source": [
    "_HIGH_ = 'High'\n",
    "dty = {   \n",
    "        'Close': 'float64',\n",
    "        _HIGH_: 'float64',\n",
    "        'Low': 'float64',\n",
    "        'Open': 'float64',\n",
    "        'Volume': 'int64'\n",
    "      }\n",
    "\n",
    "def foo ():\n",
    "    return 'foo'\n",
    "\n",
    "ai = {'foo_call': {\n",
    "                    'name' : 'foo_test',\n",
    "                    'frequency' : 2,\n",
    "                    'callback': foo,\n",
    "                    'axis' : {_HIGH_:dty[_HIGH_], 'Low':dty['Low']},   # axis(ohlcv) \n",
    "                    'ext_data' : {} # globals (min,max, histvol, TBD)\n",
    "                  }\n",
    "      }\n",
    "ai"
   ]
  },
  {
   "cell_type": "code",
   "execution_count": 2,
   "metadata": {
    "collapsed": false
   },
   "outputs": [
    {
     "data": {
      "text/plain": [
       "2"
      ]
     },
     "execution_count": 2,
     "metadata": {},
     "output_type": "execute_result"
    }
   ],
   "source": [
    "max_duration = max({_:value['frequency'] for (_,value) in ai.items()}.values())\n",
    "max_duration"
   ]
  },
  {
   "cell_type": "code",
   "execution_count": 378,
   "metadata": {
    "collapsed": true
   },
   "outputs": [],
   "source": [
    "import numpy as np\n",
    "import pandas as pd\n",
    "import time"
   ]
  },
  {
   "cell_type": "code",
   "execution_count": 361,
   "metadata": {
    "collapsed": false
   },
   "outputs": [
    {
     "name": "stdout",
     "output_type": "stream",
     "text": [
      "<class 'pandas.core.frame.DataFrame'>\n",
      "DatetimeIndex: 4419 entries, 1999-01-22 to 2016-08-12\n",
      "Data columns (total 5 columns):\n",
      "Open      4419 non-null float64\n",
      "High      4419 non-null float64\n",
      "Low       4419 non-null float64\n",
      "Close     4419 non-null float64\n",
      "Volume    4419 non-null int64\n",
      "dtypes: float64(4), int64(1)\n",
      "memory usage: 207.1 KB\n"
     ]
    }
   ],
   "source": [
    "#pdf = pd.read_csv('/home/starq/REP/DATA/FINANCE/Quotazioni/test-ai.csv' \\\n",
    "pdf = pd.read_csv('/home/starq/REP/DATA/FINANCE/Quotazioni/NVDA.csv' \\\n",
    "                                 ,usecols=['Date','Open', 'High', 'Low', 'Close', 'Volume'] \\\n",
    "                                 ,dtype=dty,parse_dates=['Date'],infer_datetime_format=True \\\n",
    "                                 ,index_col='Date')\n",
    "pdf.info(memory_usage='deep')"
   ]
  },
  {
   "cell_type": "code",
   "execution_count": 376,
   "metadata": {
    "collapsed": false
   },
   "outputs": [],
   "source": [
    "def stack_execution (active_indicators, datapoint, dtype=dty, ext_data={}):\n",
    "    \n",
    "    ai           = active_indicators \n",
    "    max_duration = max({_:value['frequency'] for (_,value) in ai.items()}.values())\n",
    "    i_stack      = pd.DataFrame()\n",
    "    i_stack      = i_stack.append([datapoint], ignore_index=True)\n",
    "    ext_data     = ext_data\n",
    "\n",
    "    period = max_duration\n",
    "    count  = 1\n",
    "    print(i_stack)\n",
    "    \n",
    "    def _run(datapoint): ### può essere un rif a pdf\n",
    "\n",
    "        nonlocal ai, i_stack, period, count, ext_data\n",
    "\n",
    "        i_stack  = i_stack.append([datapoint], ignore_index=True) ### nn serve più\n",
    "        count += 1\n",
    "        #print(i_stack)\n",
    "\n",
    "        v = None\n",
    "        values = list()\n",
    "        for fx in ai:\n",
    "            \n",
    "            if (count >= ai[fx]['frequency']):\n",
    "                #\n",
    "                pass\n",
    "                #row_list    = -fx['frequency':]  ### si usa sotto\n",
    "                #column_list =  fx['params'] \n",
    "                #v = fx['callback'] (i_stack[-fx['frequency':]]) ### ultimi fx['frequency'] elementi\n",
    "                #\n",
    "                #v = fx['callback'] (pdf.iloc[-fx['frequency':]].iloc[column_list]) ### ultimi fx['frequency'] elementi\n",
    "                #\n",
    "                v = ai[fx]['callback'] ()\n",
    "                # i_stack[row_list, :][:, columns_list]\n",
    "                #v = fx['callback'] (i_stack[np.ix_(row_list, columns_list)]) ### best solution x nparray (fare un performance test)\n",
    "                \n",
    "                #values.append(fx['name']:v)\n",
    "                #values.append[{str(ai[fx]['name']):v}]\n",
    "                values.append(v)\n",
    "                \n",
    "        if count >= period: \n",
    "            i_stack = i_stack.drop(i_stack.index[0])   ### non serve più\n",
    "        return values\n",
    "        \n",
    "    return _run"
   ]
  },
  {
   "cell_type": "code",
   "execution_count": 381,
   "metadata": {
    "collapsed": false
   },
   "outputs": [
    {
     "name": "stdout",
     "output_type": "stream",
     "text": [
      "       Index  Open      High       Low     Close    Volume\n",
      "0 1999-01-22  21.0  23.43744  18.62496  19.68744  67867200\n",
      "elapsed : 8.803938999999986\n"
     ]
    }
   ],
   "source": [
    "#\n",
    "#  MAIN\n",
    "#\n",
    "\n",
    "rows = 0\n",
    "event_stack = list()\n",
    "start = time.clock()\n",
    "for datapoint in pdf.itertuples():\n",
    "    if rows :\n",
    "        #break\n",
    "        events = run_indicators(datapoint) ### passare un rif. a pdf\n",
    "        if events:\n",
    "            pass ###\n",
    "            #\n",
    "            # some events check:\n",
    "            # ext_data = check(events)\n",
    "            #\n",
    "            # posso utilizzare una list e fare il merge alla fine:\n",
    "            ###(1)\n",
    "            # ext_stack.append(events)\n",
    "            #print('result='+str(events))\n",
    "            #pdf.merge(events) #, index=timestamp)\n",
    "    else:\n",
    "        run_indicators = stack_execution(ai, datapoint)  \n",
    "\n",
    "    rows += 1\n",
    "\n",
    "elapsed = str(time.clock() - start)\n",
    "print('elapsed : ' + elapsed)\n"
   ]
  },
  {
   "cell_type": "code",
   "execution_count": 37,
   "metadata": {
    "collapsed": false
   },
   "outputs": [
    {
     "data": {
      "text/plain": [
       "'1.11.1'"
      ]
     },
     "execution_count": 37,
     "metadata": {},
     "output_type": "execute_result"
    }
   ],
   "source": [
    "np.__version__"
   ]
  },
  {
   "cell_type": "code",
   "execution_count": 109,
   "metadata": {
    "collapsed": false
   },
   "outputs": [
    {
     "name": "stdout",
     "output_type": "stream",
     "text": [
      "[Timestamp('1999-01-25 00:00:00') 21.249960000000002 21.999960000000002\n",
      " 19.687439999999999 21.75 12762000]\n"
     ]
    }
   ],
   "source": [
    "xlist = [(1, 1.1), (2, 1.2), (3, 1.3)]\n",
    "#xlist = list(datapoint)\n",
    "#dt=np.dtype('Timestamp,float,float,float,float,int')\n",
    "xarr = np.array(xlist)#,dtype=dt)\n",
    "xlist\n",
    "#xarr\n",
    "#xarr.dtype\n",
    "list(datapoint)\n",
    "xarr = np.array(list(datapoint))\n",
    "print(xarr)"
   ]
  },
  {
   "cell_type": "code",
   "execution_count": 305,
   "metadata": {
    "collapsed": false
   },
   "outputs": [
    {
     "name": "stdout",
     "output_type": "stream",
     "text": [
      "<class 'list'>\n",
      "[1.99, 2, 3, 4]\n"
     ]
    },
    {
     "data": {
      "text/plain": [
       "array([ 1.99,  2.  ,  3.  ,  4.  ])"
      ]
     },
     "execution_count": 305,
     "metadata": {},
     "output_type": "execute_result"
    }
   ],
   "source": [
    "dp = [1.99,2,3,4]\n",
    "print(type(dp))\n",
    "print(dp)\n",
    "arr = np.array(dp)#[[1,2,3,4], [5,6,7,8], [9,10,11,12]])\n",
    "arr"
   ]
  },
  {
   "cell_type": "code",
   "execution_count": 250,
   "metadata": {
    "collapsed": false
   },
   "outputs": [
    {
     "data": {
      "text/plain": [
       "array([5, 6, 7, 8])"
      ]
     },
     "execution_count": 250,
     "metadata": {},
     "output_type": "execute_result"
    }
   ],
   "source": [
    "arr[1]\n",
    "#arr = np.delete(arr, 0,0)"
   ]
  },
  {
   "cell_type": "code",
   "execution_count": 176,
   "metadata": {
    "collapsed": false
   },
   "outputs": [
    {
     "data": {
      "text/plain": [
       "array([[ 5,  6,  7,  8],\n",
       "       [ 9, 10, 11, 12]])"
      ]
     },
     "execution_count": 176,
     "metadata": {},
     "output_type": "execute_result"
    }
   ],
   "source": [
    "arr"
   ]
  },
  {
   "cell_type": "code",
   "execution_count": 169,
   "metadata": {
    "collapsed": false
   },
   "outputs": [
    {
     "data": {
      "text/plain": [
       "8"
      ]
     },
     "execution_count": 169,
     "metadata": {},
     "output_type": "execute_result"
    }
   ],
   "source": [
    "arr.size"
   ]
  },
  {
   "cell_type": "code",
   "execution_count": null,
   "metadata": {
    "collapsed": true
   },
   "outputs": [],
   "source": []
  }
 ],
 "metadata": {
  "anaconda-cloud": {},
  "kernelspec": {
   "display_name": "Python [conda root]",
   "language": "python",
   "name": "conda-root-py"
  },
  "language_info": {
   "codemirror_mode": {
    "name": "ipython",
    "version": 3
   },
   "file_extension": ".py",
   "mimetype": "text/x-python",
   "name": "python",
   "nbconvert_exporter": "python",
   "pygments_lexer": "ipython3",
   "version": "3.5.5"
  }
 },
 "nbformat": 4,
 "nbformat_minor": 1
}
