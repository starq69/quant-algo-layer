{
 "cells": [
  {
   "cell_type": "code",
   "execution_count": 2,
   "metadata": {
    "collapsed": true
   },
   "outputs": [],
   "source": [
    "import pandas as pd\n",
    "import numpy as np"
   ]
  },
  {
   "cell_type": "code",
   "execution_count": 3,
   "metadata": {
    "collapsed": true
   },
   "outputs": [],
   "source": [
    "_HIGH_ = 'High'\n",
    "dty = {\n",
    "        'Close': 'float64',\n",
    "        _HIGH_: 'float64',\n",
    "        'Low': 'float64',\n",
    "        'Open': 'float64',\n",
    "        'Volume': 'int64'\n",
    "      }\n"
   ]
  },
  {
   "cell_type": "code",
   "execution_count": 4,
   "metadata": {
    "collapsed": false
   },
   "outputs": [],
   "source": [
    "pdf = pd.read_csv('/home/starq/REP/DATA/FINANCE/Quotazioni/test-ai.csv' \\\n",
    "    #pdf = pd.read_csv('/home/starq/REP/DATA/FINANCE/Quotazioni/NVDA.csv' \\\n",
    "                                 ,usecols=['Date','Open', 'High', 'Low', 'Close', 'Volume'] \\\n",
    "                                 ,dtype=dty,parse_dates=['Date'],infer_datetime_format=True \\\n",
    "                                 ,index_col='Date')"
   ]
  },
  {
   "cell_type": "code",
   "execution_count": 4,
   "metadata": {
    "collapsed": false
   },
   "outputs": [
    {
     "data": {
      "text/plain": [
       "12"
      ]
     },
     "execution_count": 4,
     "metadata": {},
     "output_type": "execute_result"
    }
   ],
   "source": [
    "len(pdf.index)"
   ]
  },
  {
   "cell_type": "markdown",
   "metadata": {},
   "source": [
    "## OK"
   ]
  },
  {
   "cell_type": "code",
   "execution_count": 7,
   "metadata": {
    "collapsed": false
   },
   "outputs": [
    {
     "data": {
      "text/html": [
       "<div>\n",
       "<table border=\"1\" class=\"dataframe\">\n",
       "  <thead>\n",
       "    <tr style=\"text-align: right;\">\n",
       "      <th></th>\n",
       "      <th>Open</th>\n",
       "      <th>High</th>\n",
       "      <th>Low</th>\n",
       "      <th>Close</th>\n",
       "      <th>Volume</th>\n",
       "      <th>GAP</th>\n",
       "      <th>foo</th>\n",
       "    </tr>\n",
       "    <tr>\n",
       "      <th>Date</th>\n",
       "      <th></th>\n",
       "      <th></th>\n",
       "      <th></th>\n",
       "      <th></th>\n",
       "      <th></th>\n",
       "      <th></th>\n",
       "      <th></th>\n",
       "    </tr>\n",
       "  </thead>\n",
       "  <tbody>\n",
       "    <tr>\n",
       "      <th>1999-01-22</th>\n",
       "      <td>21.000000</td>\n",
       "      <td>23.437440</td>\n",
       "      <td>18.624960</td>\n",
       "      <td>19.687440</td>\n",
       "      <td>67867200</td>\n",
       "      <td>gap</td>\n",
       "      <td>None</td>\n",
       "    </tr>\n",
       "    <tr>\n",
       "      <th>1999-01-25</th>\n",
       "      <td>21.249960</td>\n",
       "      <td>21.999960</td>\n",
       "      <td>19.687440</td>\n",
       "      <td>21.750000</td>\n",
       "      <td>12762000</td>\n",
       "      <td>gap</td>\n",
       "      <td>foo</td>\n",
       "    </tr>\n",
       "    <tr>\n",
       "      <th>1999-01-26</th>\n",
       "      <td>21.999960</td>\n",
       "      <td>22.437479</td>\n",
       "      <td>19.749960</td>\n",
       "      <td>20.062560</td>\n",
       "      <td>8580000</td>\n",
       "      <td>NaN</td>\n",
       "      <td>NaN</td>\n",
       "    </tr>\n",
       "    <tr>\n",
       "      <th>1999-01-27</th>\n",
       "      <td>20.124960</td>\n",
       "      <td>20.625000</td>\n",
       "      <td>18.999960</td>\n",
       "      <td>20.000040</td>\n",
       "      <td>6109200</td>\n",
       "      <td>NaN</td>\n",
       "      <td>NaN</td>\n",
       "    </tr>\n",
       "    <tr>\n",
       "      <th>1999-01-28</th>\n",
       "      <td>20.000040</td>\n",
       "      <td>20.124960</td>\n",
       "      <td>19.812479</td>\n",
       "      <td>19.937521</td>\n",
       "      <td>5688000</td>\n",
       "      <td>NaN</td>\n",
       "      <td>NaN</td>\n",
       "    </tr>\n",
       "    <tr>\n",
       "      <th>1999-01-29</th>\n",
       "      <td>19.937521</td>\n",
       "      <td>20.000040</td>\n",
       "      <td>18.999960</td>\n",
       "      <td>18.999960</td>\n",
       "      <td>6100800</td>\n",
       "      <td>NaN</td>\n",
       "      <td>NaN</td>\n",
       "    </tr>\n",
       "    <tr>\n",
       "      <th>1999-02-01</th>\n",
       "      <td>18.999960</td>\n",
       "      <td>19.500000</td>\n",
       "      <td>18.999960</td>\n",
       "      <td>19.374960</td>\n",
       "      <td>3867600</td>\n",
       "      <td>NaN</td>\n",
       "      <td>NaN</td>\n",
       "    </tr>\n",
       "    <tr>\n",
       "      <th>1999-02-02</th>\n",
       "      <td>18.999960</td>\n",
       "      <td>19.500000</td>\n",
       "      <td>17.312521</td>\n",
       "      <td>17.874960</td>\n",
       "      <td>6602400</td>\n",
       "      <td>NaN</td>\n",
       "      <td>NaN</td>\n",
       "    </tr>\n",
       "    <tr>\n",
       "      <th>1999-02-03</th>\n",
       "      <td>17.625000</td>\n",
       "      <td>18.500040</td>\n",
       "      <td>17.499960</td>\n",
       "      <td>18.249960</td>\n",
       "      <td>1878000</td>\n",
       "      <td>NaN</td>\n",
       "      <td>NaN</td>\n",
       "    </tr>\n",
       "    <tr>\n",
       "      <th>1999-02-04</th>\n",
       "      <td>18.500040</td>\n",
       "      <td>19.749960</td>\n",
       "      <td>18.249960</td>\n",
       "      <td>19.250040</td>\n",
       "      <td>4548000</td>\n",
       "      <td>NaN</td>\n",
       "      <td>NaN</td>\n",
       "    </tr>\n",
       "    <tr>\n",
       "      <th>1999-02-05</th>\n",
       "      <td>19.562521</td>\n",
       "      <td>20.000040</td>\n",
       "      <td>19.062479</td>\n",
       "      <td>19.812479</td>\n",
       "      <td>3421200</td>\n",
       "      <td>NaN</td>\n",
       "      <td>NaN</td>\n",
       "    </tr>\n",
       "    <tr>\n",
       "      <th>1999-02-08</th>\n",
       "      <td>19.937521</td>\n",
       "      <td>20.000040</td>\n",
       "      <td>19.125000</td>\n",
       "      <td>19.125000</td>\n",
       "      <td>3852000</td>\n",
       "      <td>NaN</td>\n",
       "      <td>NaN</td>\n",
       "    </tr>\n",
       "  </tbody>\n",
       "</table>\n",
       "</div>"
      ],
      "text/plain": [
       "                 Open       High        Low      Close    Volume  GAP   foo\n",
       "Date                                                                       \n",
       "1999-01-22  21.000000  23.437440  18.624960  19.687440  67867200  gap  None\n",
       "1999-01-25  21.249960  21.999960  19.687440  21.750000  12762000  gap   foo\n",
       "1999-01-26  21.999960  22.437479  19.749960  20.062560   8580000  NaN   NaN\n",
       "1999-01-27  20.124960  20.625000  18.999960  20.000040   6109200  NaN   NaN\n",
       "1999-01-28  20.000040  20.124960  19.812479  19.937521   5688000  NaN   NaN\n",
       "1999-01-29  19.937521  20.000040  18.999960  18.999960   6100800  NaN   NaN\n",
       "1999-02-01  18.999960  19.500000  18.999960  19.374960   3867600  NaN   NaN\n",
       "1999-02-02  18.999960  19.500000  17.312521  17.874960   6602400  NaN   NaN\n",
       "1999-02-03  17.625000  18.500040  17.499960  18.249960   1878000  NaN   NaN\n",
       "1999-02-04  18.500040  19.749960  18.249960  19.250040   4548000  NaN   NaN\n",
       "1999-02-05  19.562521  20.000040  19.062479  19.812479   3421200  NaN   NaN\n",
       "1999-02-08  19.937521  20.000040  19.125000  19.125000   3852000  NaN   NaN"
      ]
     },
     "execution_count": 7,
     "metadata": {},
     "output_type": "execute_result"
    }
   ],
   "source": [
    "\n",
    "test = {'Date' : ['1999-01-22 00:00:00', '1999-01-25 00:00:00'], 'GAP': ['gap', 'gap'], 'foo': [None, 'foo']}\n",
    "\n",
    "test = pd.DataFrame(test)\n",
    "\n",
    "pdf = pdf.join(test.set_index('Date')) ### OK!\n",
    "pdf"
   ]
  },
  {
   "cell_type": "code",
   "execution_count": 49,
   "metadata": {
    "collapsed": false
   },
   "outputs": [
    {
     "data": {
      "text/html": [
       "<div>\n",
       "<table border=\"1\" class=\"dataframe\">\n",
       "  <thead>\n",
       "    <tr style=\"text-align: right;\">\n",
       "      <th></th>\n",
       "      <th>1</th>\n",
       "      <th>2</th>\n",
       "    </tr>\n",
       "  </thead>\n",
       "  <tbody>\n",
       "    <tr>\n",
       "      <th>A</th>\n",
       "      <td>-inf</td>\n",
       "      <td>-inf</td>\n",
       "    </tr>\n",
       "    <tr>\n",
       "      <th>B</th>\n",
       "      <td>-inf</td>\n",
       "      <td>-inf</td>\n",
       "    </tr>\n",
       "  </tbody>\n",
       "</table>\n",
       "</div>"
      ],
      "text/plain": [
       "     1    2\n",
       "A -inf -inf\n",
       "B -inf -inf"
      ]
     },
     "execution_count": 49,
     "metadata": {},
     "output_type": "execute_result"
    }
   ],
   "source": [
    "df = pd.DataFrame(index=list('AB'), columns=list('12'), data=-np.inf)\n",
    "df"
   ]
  },
  {
   "cell_type": "code",
   "execution_count": 50,
   "metadata": {
    "collapsed": false
   },
   "outputs": [
    {
     "data": {
      "text/html": [
       "<div>\n",
       "<table border=\"1\" class=\"dataframe\">\n",
       "  <thead>\n",
       "    <tr style=\"text-align: right;\">\n",
       "      <th></th>\n",
       "      <th>A</th>\n",
       "      <th>B</th>\n",
       "    </tr>\n",
       "  </thead>\n",
       "  <tbody>\n",
       "    <tr>\n",
       "      <th>0</th>\n",
       "      <td>1</td>\n",
       "      <td>2</td>\n",
       "    </tr>\n",
       "    <tr>\n",
       "      <th>1</th>\n",
       "      <td>2</td>\n",
       "      <td>4</td>\n",
       "    </tr>\n",
       "    <tr>\n",
       "      <th>2</th>\n",
       "      <td>3</td>\n",
       "      <td>8</td>\n",
       "    </tr>\n",
       "  </tbody>\n",
       "</table>\n",
       "</div>"
      ],
      "text/plain": [
       "   A  B\n",
       "0  1  2\n",
       "1  2  4\n",
       "2  3  8"
      ]
     },
     "execution_count": 50,
     "metadata": {},
     "output_type": "execute_result"
    }
   ],
   "source": [
    "df = pd.DataFrame({\"A\": [1,2,3],\n",
    "                   \"B\": [2,4,8]})\n",
    "df"
   ]
  },
  {
   "cell_type": "code",
   "execution_count": 51,
   "metadata": {
    "collapsed": false
   },
   "outputs": [
    {
     "data": {
      "text/html": [
       "<div>\n",
       "<table border=\"1\" class=\"dataframe\">\n",
       "  <thead>\n",
       "    <tr style=\"text-align: right;\">\n",
       "      <th></th>\n",
       "      <th>C</th>\n",
       "      <th>A</th>\n",
       "      <th>B</th>\n",
       "    </tr>\n",
       "  </thead>\n",
       "  <tbody>\n",
       "    <tr>\n",
       "      <th>0</th>\n",
       "      <td>1</td>\n",
       "      <td>1</td>\n",
       "      <td>2</td>\n",
       "    </tr>\n",
       "    <tr>\n",
       "      <th>1</th>\n",
       "      <td>2</td>\n",
       "      <td>2</td>\n",
       "      <td>4</td>\n",
       "    </tr>\n",
       "    <tr>\n",
       "      <th>2</th>\n",
       "      <td>3</td>\n",
       "      <td>3</td>\n",
       "      <td>8</td>\n",
       "    </tr>\n",
       "  </tbody>\n",
       "</table>\n",
       "</div>"
      ],
      "text/plain": [
       "   C  A  B\n",
       "0  1  1  2\n",
       "1  2  2  4\n",
       "2  3  3  8"
      ]
     },
     "execution_count": 51,
     "metadata": {},
     "output_type": "execute_result"
    }
   ],
   "source": [
    "df.insert(loc=0, column=\"C\", value=[1,2,3])\n",
    "df"
   ]
  },
  {
   "cell_type": "code",
   "execution_count": 11,
   "metadata": {
    "collapsed": false
   },
   "outputs": [],
   "source": [
    "cols = ['gap', 'min', 'max']\n",
    "_data= [1,2,3,4,5,6,7,8,9,0,11,12]\n",
    "data = [{'gap' : _data, 'min' : _data, 'max' : _data}]"
   ]
  },
  {
   "cell_type": "code",
   "execution_count": 12,
   "metadata": {
    "collapsed": false
   },
   "outputs": [
    {
     "data": {
      "text/html": [
       "<div>\n",
       "<table border=\"1\" class=\"dataframe\">\n",
       "  <thead>\n",
       "    <tr style=\"text-align: right;\">\n",
       "      <th></th>\n",
       "      <th>Open</th>\n",
       "      <th>High</th>\n",
       "      <th>Low</th>\n",
       "      <th>Close</th>\n",
       "      <th>Volume</th>\n",
       "    </tr>\n",
       "    <tr>\n",
       "      <th>Date</th>\n",
       "      <th></th>\n",
       "      <th></th>\n",
       "      <th></th>\n",
       "      <th></th>\n",
       "      <th></th>\n",
       "    </tr>\n",
       "  </thead>\n",
       "  <tbody>\n",
       "    <tr>\n",
       "      <th>1999-01-22</th>\n",
       "      <td>21.000000</td>\n",
       "      <td>23.437440</td>\n",
       "      <td>18.624960</td>\n",
       "      <td>19.687440</td>\n",
       "      <td>67867200</td>\n",
       "    </tr>\n",
       "    <tr>\n",
       "      <th>1999-01-25</th>\n",
       "      <td>21.249960</td>\n",
       "      <td>21.999960</td>\n",
       "      <td>19.687440</td>\n",
       "      <td>21.750000</td>\n",
       "      <td>12762000</td>\n",
       "    </tr>\n",
       "    <tr>\n",
       "      <th>1999-01-26</th>\n",
       "      <td>21.999960</td>\n",
       "      <td>22.437479</td>\n",
       "      <td>19.749960</td>\n",
       "      <td>20.062560</td>\n",
       "      <td>8580000</td>\n",
       "    </tr>\n",
       "    <tr>\n",
       "      <th>1999-01-27</th>\n",
       "      <td>20.124960</td>\n",
       "      <td>20.625000</td>\n",
       "      <td>18.999960</td>\n",
       "      <td>20.000040</td>\n",
       "      <td>6109200</td>\n",
       "    </tr>\n",
       "    <tr>\n",
       "      <th>1999-01-28</th>\n",
       "      <td>20.000040</td>\n",
       "      <td>20.124960</td>\n",
       "      <td>19.812479</td>\n",
       "      <td>19.937521</td>\n",
       "      <td>5688000</td>\n",
       "    </tr>\n",
       "    <tr>\n",
       "      <th>1999-01-29</th>\n",
       "      <td>19.937521</td>\n",
       "      <td>20.000040</td>\n",
       "      <td>18.999960</td>\n",
       "      <td>18.999960</td>\n",
       "      <td>6100800</td>\n",
       "    </tr>\n",
       "    <tr>\n",
       "      <th>1999-02-01</th>\n",
       "      <td>18.999960</td>\n",
       "      <td>19.500000</td>\n",
       "      <td>18.999960</td>\n",
       "      <td>19.374960</td>\n",
       "      <td>3867600</td>\n",
       "    </tr>\n",
       "    <tr>\n",
       "      <th>1999-02-02</th>\n",
       "      <td>18.999960</td>\n",
       "      <td>19.500000</td>\n",
       "      <td>17.312521</td>\n",
       "      <td>17.874960</td>\n",
       "      <td>6602400</td>\n",
       "    </tr>\n",
       "    <tr>\n",
       "      <th>1999-02-03</th>\n",
       "      <td>17.625000</td>\n",
       "      <td>18.500040</td>\n",
       "      <td>17.499960</td>\n",
       "      <td>18.249960</td>\n",
       "      <td>1878000</td>\n",
       "    </tr>\n",
       "    <tr>\n",
       "      <th>1999-02-04</th>\n",
       "      <td>18.500040</td>\n",
       "      <td>19.749960</td>\n",
       "      <td>18.249960</td>\n",
       "      <td>19.250040</td>\n",
       "      <td>4548000</td>\n",
       "    </tr>\n",
       "    <tr>\n",
       "      <th>1999-02-05</th>\n",
       "      <td>19.562521</td>\n",
       "      <td>20.000040</td>\n",
       "      <td>19.062479</td>\n",
       "      <td>19.812479</td>\n",
       "      <td>3421200</td>\n",
       "    </tr>\n",
       "    <tr>\n",
       "      <th>1999-02-08</th>\n",
       "      <td>19.937521</td>\n",
       "      <td>20.000040</td>\n",
       "      <td>19.125000</td>\n",
       "      <td>19.125000</td>\n",
       "      <td>3852000</td>\n",
       "    </tr>\n",
       "  </tbody>\n",
       "</table>\n",
       "</div>"
      ],
      "text/plain": [
       "                 Open       High        Low      Close    Volume\n",
       "Date                                                            \n",
       "1999-01-22  21.000000  23.437440  18.624960  19.687440  67867200\n",
       "1999-01-25  21.249960  21.999960  19.687440  21.750000  12762000\n",
       "1999-01-26  21.999960  22.437479  19.749960  20.062560   8580000\n",
       "1999-01-27  20.124960  20.625000  18.999960  20.000040   6109200\n",
       "1999-01-28  20.000040  20.124960  19.812479  19.937521   5688000\n",
       "1999-01-29  19.937521  20.000040  18.999960  18.999960   6100800\n",
       "1999-02-01  18.999960  19.500000  18.999960  19.374960   3867600\n",
       "1999-02-02  18.999960  19.500000  17.312521  17.874960   6602400\n",
       "1999-02-03  17.625000  18.500040  17.499960  18.249960   1878000\n",
       "1999-02-04  18.500040  19.749960  18.249960  19.250040   4548000\n",
       "1999-02-05  19.562521  20.000040  19.062479  19.812479   3421200\n",
       "1999-02-08  19.937521  20.000040  19.125000  19.125000   3852000"
      ]
     },
     "execution_count": 12,
     "metadata": {},
     "output_type": "execute_result"
    }
   ],
   "source": [
    "pdf"
   ]
  },
  {
   "cell_type": "code",
   "execution_count": 14,
   "metadata": {
    "collapsed": true
   },
   "outputs": [
    {
     "ename": "ValueError",
     "evalue": "Length of values does not match length of index",
     "output_type": "error",
     "traceback": [
      "\u001b[0;31m---------------------------------------------------------------------------\u001b[0m",
      "\u001b[0;31mValueError\u001b[0m                                Traceback (most recent call last)",
      "\u001b[0;32m<ipython-input-14-defe282dceef>\u001b[0m in \u001b[0;36m<module>\u001b[0;34m()\u001b[0m\n\u001b[0;32m----> 1\u001b[0;31m \u001b[0mpdf\u001b[0m\u001b[0;34m.\u001b[0m\u001b[0minsert\u001b[0m\u001b[0;34m(\u001b[0m\u001b[0;36m1\u001b[0m\u001b[0;34m,\u001b[0m \u001b[0mcols\u001b[0m\u001b[0;34m,\u001b[0m \u001b[0mdata\u001b[0m\u001b[0;34m)\u001b[0m\u001b[0;34m\u001b[0m\u001b[0m\n\u001b[0m",
      "\u001b[0;32m~/anaconda3/envs/quant-dev/lib/python3.5/site-packages/pandas/core/frame.py\u001b[0m in \u001b[0;36minsert\u001b[0;34m(self, loc, column, value, allow_duplicates)\u001b[0m\n\u001b[1;32m   2445\u001b[0m         \"\"\"\n\u001b[1;32m   2446\u001b[0m         \u001b[0mself\u001b[0m\u001b[0;34m.\u001b[0m\u001b[0m_ensure_valid_index\u001b[0m\u001b[0;34m(\u001b[0m\u001b[0mvalue\u001b[0m\u001b[0;34m)\u001b[0m\u001b[0;34m\u001b[0m\u001b[0m\n\u001b[0;32m-> 2447\u001b[0;31m         \u001b[0mvalue\u001b[0m \u001b[0;34m=\u001b[0m \u001b[0mself\u001b[0m\u001b[0;34m.\u001b[0m\u001b[0m_sanitize_column\u001b[0m\u001b[0;34m(\u001b[0m\u001b[0mcolumn\u001b[0m\u001b[0;34m,\u001b[0m \u001b[0mvalue\u001b[0m\u001b[0;34m)\u001b[0m\u001b[0;34m\u001b[0m\u001b[0m\n\u001b[0m\u001b[1;32m   2448\u001b[0m         self._data.insert(loc, column, value,\n\u001b[1;32m   2449\u001b[0m                           allow_duplicates=allow_duplicates)\n",
      "\u001b[0;32m~/anaconda3/envs/quant-dev/lib/python3.5/site-packages/pandas/core/frame.py\u001b[0m in \u001b[0;36m_sanitize_column\u001b[0;34m(self, key, value)\u001b[0m\n\u001b[1;32m   2576\u001b[0m \u001b[0;34m\u001b[0m\u001b[0m\n\u001b[1;32m   2577\u001b[0m             \u001b[0;31m# turn me into an ndarray\u001b[0m\u001b[0;34m\u001b[0m\u001b[0;34m\u001b[0m\u001b[0m\n\u001b[0;32m-> 2578\u001b[0;31m             \u001b[0mvalue\u001b[0m \u001b[0;34m=\u001b[0m \u001b[0m_sanitize_index\u001b[0m\u001b[0;34m(\u001b[0m\u001b[0mvalue\u001b[0m\u001b[0;34m,\u001b[0m \u001b[0mself\u001b[0m\u001b[0;34m.\u001b[0m\u001b[0mindex\u001b[0m\u001b[0;34m,\u001b[0m \u001b[0mcopy\u001b[0m\u001b[0;34m=\u001b[0m\u001b[0;32mFalse\u001b[0m\u001b[0;34m)\u001b[0m\u001b[0;34m\u001b[0m\u001b[0m\n\u001b[0m\u001b[1;32m   2579\u001b[0m             \u001b[0;32mif\u001b[0m \u001b[0;32mnot\u001b[0m \u001b[0misinstance\u001b[0m\u001b[0;34m(\u001b[0m\u001b[0mvalue\u001b[0m\u001b[0;34m,\u001b[0m \u001b[0;34m(\u001b[0m\u001b[0mnp\u001b[0m\u001b[0;34m.\u001b[0m\u001b[0mndarray\u001b[0m\u001b[0;34m,\u001b[0m \u001b[0mIndex\u001b[0m\u001b[0;34m)\u001b[0m\u001b[0;34m)\u001b[0m\u001b[0;34m:\u001b[0m\u001b[0;34m\u001b[0m\u001b[0m\n\u001b[1;32m   2580\u001b[0m                 \u001b[0;32mif\u001b[0m \u001b[0misinstance\u001b[0m\u001b[0;34m(\u001b[0m\u001b[0mvalue\u001b[0m\u001b[0;34m,\u001b[0m \u001b[0mlist\u001b[0m\u001b[0;34m)\u001b[0m \u001b[0;32mand\u001b[0m \u001b[0mlen\u001b[0m\u001b[0;34m(\u001b[0m\u001b[0mvalue\u001b[0m\u001b[0;34m)\u001b[0m \u001b[0;34m>\u001b[0m \u001b[0;36m0\u001b[0m\u001b[0;34m:\u001b[0m\u001b[0;34m\u001b[0m\u001b[0m\n",
      "\u001b[0;32m~/anaconda3/envs/quant-dev/lib/python3.5/site-packages/pandas/core/series.py\u001b[0m in \u001b[0;36m_sanitize_index\u001b[0;34m(data, index, copy)\u001b[0m\n\u001b[1;32m   2768\u001b[0m \u001b[0;34m\u001b[0m\u001b[0m\n\u001b[1;32m   2769\u001b[0m     \u001b[0;32mif\u001b[0m \u001b[0mlen\u001b[0m\u001b[0;34m(\u001b[0m\u001b[0mdata\u001b[0m\u001b[0;34m)\u001b[0m \u001b[0;34m!=\u001b[0m \u001b[0mlen\u001b[0m\u001b[0;34m(\u001b[0m\u001b[0mindex\u001b[0m\u001b[0;34m)\u001b[0m\u001b[0;34m:\u001b[0m\u001b[0;34m\u001b[0m\u001b[0m\n\u001b[0;32m-> 2770\u001b[0;31m         \u001b[0;32mraise\u001b[0m \u001b[0mValueError\u001b[0m\u001b[0;34m(\u001b[0m\u001b[0;34m'Length of values does not match length of '\u001b[0m \u001b[0;34m'index'\u001b[0m\u001b[0;34m)\u001b[0m\u001b[0;34m\u001b[0m\u001b[0m\n\u001b[0m\u001b[1;32m   2771\u001b[0m \u001b[0;34m\u001b[0m\u001b[0m\n\u001b[1;32m   2772\u001b[0m     \u001b[0;32mif\u001b[0m \u001b[0misinstance\u001b[0m\u001b[0;34m(\u001b[0m\u001b[0mdata\u001b[0m\u001b[0;34m,\u001b[0m \u001b[0mPeriodIndex\u001b[0m\u001b[0;34m)\u001b[0m\u001b[0;34m:\u001b[0m\u001b[0;34m\u001b[0m\u001b[0m\n",
      "\u001b[0;31mValueError\u001b[0m: Length of values does not match length of index"
     ]
    }
   ],
   "source": [
    "pdf.insert(1, cols, data)"
   ]
  },
  {
   "cell_type": "code",
   "execution_count": 60,
   "metadata": {
    "collapsed": false
   },
   "outputs": [
    {
     "data": {
      "text/html": [
       "<div>\n",
       "<table border=\"1\" class=\"dataframe\">\n",
       "  <thead>\n",
       "    <tr style=\"text-align: right;\">\n",
       "      <th></th>\n",
       "      <th>Open</th>\n",
       "      <th>High</th>\n",
       "      <th>Low</th>\n",
       "      <th>Close</th>\n",
       "      <th>Volume</th>\n",
       "    </tr>\n",
       "  </thead>\n",
       "  <tbody>\n",
       "    <tr>\n",
       "      <th>count</th>\n",
       "      <td>12.000000</td>\n",
       "      <td>12.000000</td>\n",
       "      <td>12.000000</td>\n",
       "      <td>12.000000</td>\n",
       "      <td>1.200000e+01</td>\n",
       "    </tr>\n",
       "    <tr>\n",
       "      <th>mean</th>\n",
       "      <td>19.828120</td>\n",
       "      <td>20.489580</td>\n",
       "      <td>18.843720</td>\n",
       "      <td>19.510410</td>\n",
       "      <td>1.093970e+07</td>\n",
       "    </tr>\n",
       "    <tr>\n",
       "      <th>std</th>\n",
       "      <td>1.217792</td>\n",
       "      <td>1.417409</td>\n",
       "      <td>0.810303</td>\n",
       "      <td>0.982763</td>\n",
       "      <td>1.814717e+07</td>\n",
       "    </tr>\n",
       "    <tr>\n",
       "      <th>min</th>\n",
       "      <td>17.625000</td>\n",
       "      <td>18.500040</td>\n",
       "      <td>17.312521</td>\n",
       "      <td>17.874960</td>\n",
       "      <td>1.878000e+06</td>\n",
       "    </tr>\n",
       "    <tr>\n",
       "      <th>25%</th>\n",
       "      <td>18.999960</td>\n",
       "      <td>19.687470</td>\n",
       "      <td>18.531210</td>\n",
       "      <td>19.093740</td>\n",
       "      <td>3.863700e+06</td>\n",
       "    </tr>\n",
       "    <tr>\n",
       "      <th>50%</th>\n",
       "      <td>19.937521</td>\n",
       "      <td>20.000040</td>\n",
       "      <td>18.999960</td>\n",
       "      <td>19.531200</td>\n",
       "      <td>5.894400e+06</td>\n",
       "    </tr>\n",
       "    <tr>\n",
       "      <th>75%</th>\n",
       "      <td>20.343720</td>\n",
       "      <td>20.968740</td>\n",
       "      <td>19.265610</td>\n",
       "      <td>19.953151</td>\n",
       "      <td>7.096800e+06</td>\n",
       "    </tr>\n",
       "    <tr>\n",
       "      <th>max</th>\n",
       "      <td>21.999960</td>\n",
       "      <td>23.437440</td>\n",
       "      <td>19.812479</td>\n",
       "      <td>21.750000</td>\n",
       "      <td>6.786720e+07</td>\n",
       "    </tr>\n",
       "  </tbody>\n",
       "</table>\n",
       "</div>"
      ],
      "text/plain": [
       "            Open       High        Low      Close        Volume\n",
       "count  12.000000  12.000000  12.000000  12.000000  1.200000e+01\n",
       "mean   19.828120  20.489580  18.843720  19.510410  1.093970e+07\n",
       "std     1.217792   1.417409   0.810303   0.982763  1.814717e+07\n",
       "min    17.625000  18.500040  17.312521  17.874960  1.878000e+06\n",
       "25%    18.999960  19.687470  18.531210  19.093740  3.863700e+06\n",
       "50%    19.937521  20.000040  18.999960  19.531200  5.894400e+06\n",
       "75%    20.343720  20.968740  19.265610  19.953151  7.096800e+06\n",
       "max    21.999960  23.437440  19.812479  21.750000  6.786720e+07"
      ]
     },
     "execution_count": 60,
     "metadata": {},
     "output_type": "execute_result"
    }
   ],
   "source": []
  },
  {
   "cell_type": "code",
   "execution_count": null,
   "metadata": {
    "collapsed": true
   },
   "outputs": [],
   "source": []
  }
 ],
 "metadata": {
  "anaconda-cloud": {},
  "kernelspec": {
   "display_name": "Python [conda env:quant-dev]",
   "language": "python",
   "name": "conda-env-quant-dev-py"
  },
  "language_info": {
   "codemirror_mode": {
    "name": "ipython",
    "version": 3
   },
   "file_extension": ".py",
   "mimetype": "text/x-python",
   "name": "python",
   "nbconvert_exporter": "python",
   "pygments_lexer": "ipython3",
   "version": "3.5.5"
  }
 },
 "nbformat": 4,
 "nbformat_minor": 1
}
